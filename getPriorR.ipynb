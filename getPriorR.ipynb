{
 "cells": [
  {
   "cell_type": "code",
   "execution_count": 1,
   "id": "c485732e",
   "metadata": {},
   "outputs": [],
   "source": [
    "#!/usr/bin/env python3\n",
    "\n",
    "from selenium import webdriver\n",
    "from selenium.webdriver.common.by import By\n",
    "import time\n",
    "\n",
    "def getSpecies(genus,species):\n",
    "    browser = webdriver.Firefox()\n",
    "    browser.get(\"https://www.fishbase.se\")\n",
    "    time.sleep(3)\n",
    "    genusElem = browser.find_element(By.ID,'acGenus')\n",
    "    speciesElem = browser.find_element(By.ID,'acSpecies')\n",
    "    genusElem.send_keys(genus)\n",
    "    speciesElem.send_keys(species)\n",
    "    speciesElem.submit()\n",
    "    time.sleep(3)\n",
    "    html = browser.page_source\n",
    "    time.sleep(3)\n",
    "    #print(html)\n",
    "    browser.close()\n",
    "    return html"
   ]
  },
  {
   "cell_type": "code",
   "execution_count": 2,
   "id": "c110d1c8",
   "metadata": {},
   "outputs": [],
   "source": [
    "def getPrior(html):\n",
    "    if '<!-- Start Prior r -->' not in html:\n",
    "        return \"No priors for this species\"\n",
    "    else:\n",
    "        start = html.find('<!-- Start Prior r -->') + len('<!-- Start Prior r -->')\n",
    "        end = html.find('<!-- Start vulnerability-->')\n",
    "        substring = html[start:end]\n",
    "        start2 = substring.find(\"Prior r = \") + len(\"Prior r = \")\n",
    "        end2 = substring.find(\", 95%\")\n",
    "        prior = substring[start2:end2]\n",
    "        return prior"
   ]
  },
  {
   "cell_type": "code",
   "execution_count": 3,
   "id": "d07a566d",
   "metadata": {},
   "outputs": [
    {
     "data": {
      "text/plain": [
       "'0.68'"
      ]
     },
     "execution_count": 3,
     "metadata": {},
     "output_type": "execute_result"
    }
   ],
   "source": [
    "getPrior(getSpecies('Mullus','barbatus barbatus'))"
   ]
  },
  {
   "cell_type": "code",
   "execution_count": 4,
   "id": "891ed0fa",
   "metadata": {},
   "outputs": [],
   "source": [
    "import pandas as pd"
   ]
  },
  {
   "cell_type": "code",
   "execution_count": 5,
   "id": "633eb2f8",
   "metadata": {},
   "outputs": [],
   "source": [
    "spp_list = pd.read_csv(\"med_list_upd.csv\")\n",
    "new = spp_list[\"Species\"].str.split(\" \", n = 1, expand = True)\n",
    "spp_list[\"genus\"] = new[0]\n",
    "spp_list[\"species\"] = new[1]\n",
    "spp_list.drop(columns = [\"Species\"], inplace = True)"
   ]
  },
  {
   "cell_type": "code",
   "execution_count": 6,
   "id": "ee200723",
   "metadata": {},
   "outputs": [
    {
     "data": {
      "text/plain": [
       "'Acanthocybium'"
      ]
     },
     "execution_count": 6,
     "metadata": {},
     "output_type": "execute_result"
    }
   ],
   "source": [
    "spp_list[\"genus\"].iloc[0]"
   ]
  },
  {
   "cell_type": "code",
   "execution_count": null,
   "id": "0beaea0d",
   "metadata": {},
   "outputs": [],
   "source": [
    "priors = []\n",
    "for i in range(len(spp_list)):\n",
    "    x = getPrior(getSpecies(spp_list[\"genus\"].iloc[i],spp_list[\"species\"].iloc[i]))\n",
    "    priors.append(x)"
   ]
  },
  {
   "cell_type": "code",
   "execution_count": 56,
   "id": "18bbdbf3",
   "metadata": {},
   "outputs": [
    {
     "data": {
      "text/plain": [
       "79"
      ]
     },
     "execution_count": 56,
     "metadata": {},
     "output_type": "execute_result"
    }
   ],
   "source": [
    "len(priors)"
   ]
  },
  {
   "cell_type": "code",
   "execution_count": 40,
   "id": "742d2399",
   "metadata": {
    "scrolled": true
   },
   "outputs": [
    {
     "name": "stdout",
     "output_type": "stream",
     "text": [
      "0.53\n"
     ]
    },
    {
     "data": {
      "text/plain": [
       "[None]"
      ]
     },
     "execution_count": 40,
     "metadata": {},
     "output_type": "execute_result"
    }
   ],
   "source": [
    "myArray = []\n",
    "x = getPrior(getSpecies(spp_list[\"genus\"].iloc[0],spp_list[\"species\"].iloc[0]))\n",
    "myArray.append(x)\n",
    "myArray"
   ]
  },
  {
   "cell_type": "code",
   "execution_count": 57,
   "id": "514ce73b",
   "metadata": {},
   "outputs": [
    {
     "data": {
      "text/plain": [
       "['0.53',\n",
       " '0.68',\n",
       " '0.59',\n",
       " '0.60',\n",
       " '0.47',\n",
       " '0.75',\n",
       " '0.85',\n",
       " '0.59',\n",
       " 'v class=\"smallSpace\">\\n\\t\\t\\t\\t\\t\\t\\t\\t\\t\\t\\t</div>\\n\\t\\t\\t',\n",
       " 'v class=\"smallSpace\">\\n\\t\\t\\t\\t\\t\\t\\t\\t\\t\\t\\t</div>\\n\\t\\t\\t',\n",
       " '0.44',\n",
       " '0.46',\n",
       " 'v class=\"smallSpace\">\\n\\t\\t\\t\\t\\t\\t\\t\\t\\t\\t\\t</div>\\n\\t\\t\\t',\n",
       " '0.63',\n",
       " '0.70',\n",
       " '0.54',\n",
       " '0.74',\n",
       " '0.57',\n",
       " '0.51',\n",
       " '1.01',\n",
       " '0.18',\n",
       " '0.30',\n",
       " 'v class=\"smallSpace\">\\n\\t\\t\\t\\t\\t\\t\\t\\t\\t\\t\\t</div>\\n\\t\\t\\t',\n",
       " 'v class=\"smallSpace\">\\n\\t\\t\\t\\t\\t\\t\\t\\t\\t\\t\\t</div>\\n\\t\\t\\t',\n",
       " '0.42',\n",
       " '0.77',\n",
       " '0.57',\n",
       " '0.35',\n",
       " 'v class=\"smallSpace\">\\n\\t\\t\\t\\t\\t\\t\\t\\t\\t\\t\\t</div>\\n\\t\\t\\t',\n",
       " '0.47',\n",
       " 'v class=\"smallSpace\">\\n\\t\\t\\t\\t\\t\\t\\t\\t\\t\\t\\t</div>\\n\\t\\t\\t',\n",
       " '0.51',\n",
       " '0.54',\n",
       " 'v class=\"smallSpace\">\\n\\t\\t\\t\\t\\t\\t\\t\\t\\t\\t\\t</div>\\n\\t\\t\\t',\n",
       " 'v class=\"smallSpace\">\\n\\t\\t\\t\\t\\t\\t\\t\\t\\t\\t\\t</div>\\n\\t\\t\\t',\n",
       " '0.47',\n",
       " '0.39',\n",
       " '0.56',\n",
       " 'v class=\"smallSpace\">\\n\\t\\t\\t\\t\\t\\t\\t\\t\\t\\t\\t</div>\\n\\t\\t\\t',\n",
       " '0.40',\n",
       " 'v class=\"smallSpace\">\\n\\t\\t\\t\\t\\t\\t\\t\\t\\t\\t\\t</div>\\n\\t\\t\\t',\n",
       " 'v class=\"smallSpace\">\\n\\t\\t\\t\\t\\t\\t\\t\\t\\t\\t\\t</div>\\n\\t\\t\\t',\n",
       " 'v class=\"smallSpace\">\\n\\t\\t\\t\\t\\t\\t\\t\\t\\t\\t\\t</div>\\n\\t\\t\\t',\n",
       " '0.50',\n",
       " '0.43',\n",
       " 'v class=\"smallSpace\">\\n\\t\\t\\t\\t\\t\\t\\t\\t\\t\\t\\t</div>\\n\\t\\t\\t',\n",
       " 'v class=\"smallSpace\">\\n\\t\\t\\t\\t\\t\\t\\t\\t\\t\\t\\t</div>\\n\\t\\t\\t',\n",
       " 'v class=\"smallSpace\">\\n\\t\\t\\t\\t\\t\\t\\t\\t\\t\\t\\t</div>\\n\\t\\t\\t',\n",
       " '0.36',\n",
       " 'v class=\"smallSpace\">\\n\\t\\t\\t\\t\\t\\t\\t\\t\\t\\t\\t</div>\\n\\t\\t\\t',\n",
       " 'v class=\"smallSpace\">\\n\\t\\t\\t\\t\\t\\t\\t\\t\\t\\t\\t</div>\\n\\t\\t\\t',\n",
       " '0.78',\n",
       " '0.57',\n",
       " '0.59',\n",
       " 'v class=\"smallSpace\">\\n\\t\\t\\t\\t\\t\\t\\t\\t\\t\\t\\t</div>\\n\\t\\t\\t',\n",
       " 'v class=\"smallSpace\">\\n\\t\\t\\t\\t\\t\\t\\t\\t\\t\\t\\t</div>\\n\\t\\t\\t',\n",
       " 'v class=\"smallSpace\">\\n\\t\\t\\t\\t\\t\\t\\t\\t\\t\\t\\t</div>\\n\\t\\t\\t',\n",
       " '0.20',\n",
       " 'v class=\"smallSpace\">\\n\\t\\t\\t\\t\\t\\t\\t\\t\\t\\t\\t</div>\\n\\t\\t\\t',\n",
       " 'v class=\"smallSpace\">\\n\\t\\t\\t\\t\\t\\t\\t\\t\\t\\t\\t</div>\\n\\t\\t\\t',\n",
       " '0.34',\n",
       " '0.51',\n",
       " '0.54',\n",
       " '0.60',\n",
       " 'v class=\"smallSpace\">\\n\\t\\t\\t\\t\\t\\t\\t\\t\\t\\t\\t</div>\\n\\t\\t\\t',\n",
       " 'v class=\"smallSpace\">\\n\\t\\t\\t\\t\\t\\t\\t\\t\\t\\t\\t</div>\\n\\t\\t\\t',\n",
       " '0.52',\n",
       " 'v class=\"smallSpace\">\\n\\t\\t\\t\\t\\t\\t\\t\\t\\t\\t\\t</div>\\n\\t\\t\\t',\n",
       " 'v class=\"smallSpace\">\\n\\t\\t\\t\\t\\t\\t\\t\\t\\t\\t\\t</div>\\n\\t\\t\\t',\n",
       " '0.44',\n",
       " '0.35',\n",
       " 'v class=\"smallSpace\">\\n\\t\\t\\t\\t\\t\\t\\t\\t\\t\\t\\t</div>\\n\\t\\t\\t',\n",
       " '0.57',\n",
       " 'v class=\"smallSpace\">\\n\\t\\t\\t\\t\\t\\t\\t\\t\\t\\t\\t</div>\\n\\t\\t\\t',\n",
       " 'v class=\"smallSpace\">\\n\\t\\t\\t\\t\\t\\t\\t\\t\\t\\t\\t</div>\\n\\t\\t\\t',\n",
       " 'v class=\"smallSpace\">\\n\\t\\t\\t\\t\\t\\t\\t\\t\\t\\t\\t</div>\\n\\t\\t\\t',\n",
       " 'v class=\"smallSpace\">\\n\\t\\t\\t\\t\\t\\t\\t\\t\\t\\t\\t</div>\\n\\t\\t\\t',\n",
       " '0.47',\n",
       " 'v class=\"smallSpace\">\\n\\t\\t\\t\\t\\t\\t\\t\\t\\t\\t\\t</div>\\n\\t\\t\\t']"
      ]
     },
     "execution_count": 57,
     "metadata": {},
     "output_type": "execute_result"
    }
   ],
   "source": [
    "priors"
   ]
  }
 ],
 "metadata": {
  "kernelspec": {
   "display_name": "Python 3 (ipykernel)",
   "language": "python",
   "name": "python3"
  },
  "language_info": {
   "codemirror_mode": {
    "name": "ipython",
    "version": 3
   },
   "file_extension": ".py",
   "mimetype": "text/x-python",
   "name": "python",
   "nbconvert_exporter": "python",
   "pygments_lexer": "ipython3",
   "version": "3.9.12"
  }
 },
 "nbformat": 4,
 "nbformat_minor": 5
}
